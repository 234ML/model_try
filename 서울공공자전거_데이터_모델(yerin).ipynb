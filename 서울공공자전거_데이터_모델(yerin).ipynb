{
  "nbformat": 4,
  "nbformat_minor": 0,
  "metadata": {
    "colab": {
      "provenance": []
    },
    "kernelspec": {
      "name": "python3",
      "display_name": "Python 3"
    },
    "language_info": {
      "name": "python"
    },
    "gpuClass": "standard",
    "accelerator": "GPU"
  },
  "cells": [
    {
      "cell_type": "code",
      "source": [
        "#!sudo apt-get install -y fonts-nanum\n",
        "#!sudo fc-cache -fv\n",
        "#!rm ~/.cache/matplotlib -rf"
      ],
      "metadata": {
        "id": "vmrpq_yiis4P"
      },
      "execution_count": null,
      "outputs": []
    },
    {
      "cell_type": "code",
      "execution_count": null,
      "metadata": {
        "id": "cmv4j-OYv3I0"
      },
      "outputs": [],
      "source": [
        "import json\n",
        "import pandas as pd     #provides wide variety tools for data analysis,many inbuilt methods for grouping, combining and filtering data.\n",
        "import numpy as np      #for some basic mathematical operations\n",
        "from matplotlib import pyplot as plt #comprehensive library for creating static, animated, and interactive visualizations\n",
        "import matplotlib as mpl\n",
        "from sklearn.preprocessing import StandardScaler\n",
        "from sklearn.preprocessing import  LabelEncoder\n",
        "import seaborn as sns                #  high-level interface for drawing attractive and informative statistical graphics\n",
        "import folium\n",
        "from folium import plugins\n",
        "import missingno as mnso\n",
        "import warnings\n",
        "warnings.filterwarnings('ignore')\n",
        "\n",
        "mpl.rcParams['axes.unicode_minus'] = False\n",
        "plt.rcParams[\"font.family\"] = 'NanumGothic'\n",
        "\n",
        "pd.pandas.set_option('display.max_columns',None)\n",
        "%matplotlib inline"
      ]
    },
    {
      "cell_type": "code",
      "source": [
        "from google.colab import drive\n",
        "drive.mount('/content/drive')"
      ],
      "metadata": {
        "colab": {
          "base_uri": "https://localhost:8080/"
        },
        "id": "z9b7_gydxoQl",
        "outputId": "a2c226ef-31a1-448a-f2ad-1db382498079"
      },
      "execution_count": null,
      "outputs": [
        {
          "output_type": "stream",
          "name": "stdout",
          "text": [
            "Mounted at /content/drive\n"
          ]
        }
      ]
    },
    {
      "cell_type": "code",
      "source": [
        "def datainfo(data):\n",
        "    temp_ps = pd.DataFrame(index=data.columns)\n",
        "    temp_ps['DataType'] = data.dtypes\n",
        "    temp_ps[\"Non-null_Values\"] = data.count()\n",
        "    temp_ps['Unique_Values'] = data.nunique()\n",
        "    temp_ps['NaN_Values'] = data.isnull().sum()\n",
        "    temp_ps['NaN_Values_Percentage'] = (temp_ps['NaN_Values']/len(data))*100 \n",
        "    return temp_ps"
      ],
      "metadata": {
        "id": "_Y62aaAGAYQI"
      },
      "execution_count": null,
      "outputs": []
    },
    {
      "cell_type": "code",
      "source": [
        "data=pd.read_csv(\"/content/drive/MyDrive/데이터 처리/3. 공공자전거 대여소 정보(22.06월 기준).csv\", encoding='utf-8')"
      ],
      "metadata": {
        "id": "G6BvBb1_KVS0"
      },
      "execution_count": null,
      "outputs": []
    },
    {
      "cell_type": "code",
      "source": [
        "#필요없는 컬럼 탈락\n",
        "data.drop(columns=['보관소(대여소)명'],inplace=True)\n",
        "data.drop(columns=['상세주소'],inplace=True)\n",
        "data.drop(columns=['위도'],inplace=True)\n",
        "data.drop(columns=['경도'],inplace=True)\n",
        "data.drop(columns=['설치시기'],inplace=True)"
      ],
      "metadata": {
        "id": "6FYzwm1BOp2q"
      },
      "execution_count": null,
      "outputs": []
    },
    {
      "cell_type": "code",
      "source": [
        "data =data.fillna(0)"
      ],
      "metadata": {
        "id": "wFOKMd5kPkFx"
      },
      "execution_count": null,
      "outputs": []
    },
    {
      "cell_type": "code",
      "source": [
        "data['대여소별 자전거 대수'] = data['LCD']+data['QR']"
      ],
      "metadata": {
        "id": "HbTATgSKP-ms"
      },
      "execution_count": null,
      "outputs": []
    },
    {
      "cell_type": "code",
      "source": [
        "data.drop(columns=['LCD'], inplace=True)\n",
        "data.drop(columns=['QR'], inplace=True)\n",
        "data.drop(columns=['운영방식'], inplace=True)"
      ],
      "metadata": {
        "id": "CJe7zjTlaF9P"
      },
      "execution_count": null,
      "outputs": []
    },
    {
      "cell_type": "code",
      "source": [
        "df = pd.read_csv('/content/drive/MyDrive/데이터 처리/서울특별시 공공자전거 이용정보(시간대별)_21.01.csv', encoding='utf-8')"
      ],
      "metadata": {
        "id": "9o-63qj9JjI3"
      },
      "execution_count": null,
      "outputs": []
    },
    {
      "cell_type": "code",
      "source": [
        "# df2 = pd.read_csv('/content/drive/MyDrive/데이터 처리/서울특별시 공공자전거 이용정보(시간대별)_21.02.csv', encoding='utf-8')"
      ],
      "metadata": {
        "id": "hSSCalXwOob4"
      },
      "execution_count": null,
      "outputs": []
    },
    {
      "cell_type": "code",
      "source": [
        "# df3 = pd.read_csv('/content/drive/MyDrive/데이터 처리/서울특별시 공공자전거 이용정보(시간대별)_21.03.csv', encoding='utf-8')"
      ],
      "metadata": {
        "id": "ggi_FWg_OrrA"
      },
      "execution_count": null,
      "outputs": []
    },
    {
      "cell_type": "code",
      "source": [
        "# df4 = pd.read_csv('/content/drive/MyDrive/데이터 처리/서울특별시 공공자전거 이용정보(시간대별)_21.04.csv', encoding='utf-8')"
      ],
      "metadata": {
        "id": "RpR9lb5nOvMh"
      },
      "execution_count": null,
      "outputs": []
    },
    {
      "cell_type": "code",
      "source": [
        "# df5 = pd.read_csv('/content/drive/MyDrive/데이터 처리/서울특별시 공공자전거 이용정보(시간대별)_21.05.csv', encoding='utf-8')"
      ],
      "metadata": {
        "id": "aWmuK_7mO1XN"
      },
      "execution_count": null,
      "outputs": []
    },
    {
      "cell_type": "code",
      "source": [
        "# df6 = pd.read_csv('/content/drive/MyDrive/데이터 처리/서울특별시 공공자전거 이용정보(시간대별)_21.06.csv', encoding='utf-8')"
      ],
      "metadata": {
        "id": "Bk3tRmeiO5pJ"
      },
      "execution_count": null,
      "outputs": []
    },
    {
      "cell_type": "code",
      "source": [
        "# df7 = pd.read_csv('/content/drive/MyDrive/데이터 처리/서울특별시 공공자전거 이용정보(시간대별)_21.07.csv', encoding='utf-8')"
      ],
      "metadata": {
        "id": "2ihArBZZO85b"
      },
      "execution_count": null,
      "outputs": []
    },
    {
      "cell_type": "code",
      "source": [
        "# df8 = pd.read_csv('/content/drive/MyDrive/데이터 처리/서울특별시 공공자전거 이용정보(시간대별)_21.08.csv', encoding='utf-8')"
      ],
      "metadata": {
        "id": "rfHbbb2jO_xX"
      },
      "execution_count": null,
      "outputs": []
    },
    {
      "cell_type": "code",
      "source": [
        "# df9 = pd.read_csv('/content/drive/MyDrive/데이터 처리/서울특별시 공공자전거 이용정보(시간대별)_21.09.csv', encoding='utf-8')"
      ],
      "metadata": {
        "id": "iv7zrTIIPC-p"
      },
      "execution_count": null,
      "outputs": []
    },
    {
      "cell_type": "code",
      "source": [
        "# df10 = pd.read_csv('/content/drive/MyDrive/데이터 처리/서울특별시 공공자전거 이용정보(시간대별)_21.10.csv', encoding='utf-8')"
      ],
      "metadata": {
        "id": "PaCWvvLqPFy2"
      },
      "execution_count": null,
      "outputs": []
    },
    {
      "cell_type": "code",
      "source": [
        "# df11 = pd.read_csv('/content/drive/MyDrive/데이터 처리/서울특별시 공공자전거 이용정보(시간대별)_21.11.csv', encoding='utf-8')"
      ],
      "metadata": {
        "id": "vGaljqUJPImQ"
      },
      "execution_count": null,
      "outputs": []
    },
    {
      "cell_type": "code",
      "source": [
        "# df12 = pd.read_csv('/content/drive/MyDrive/데이터 처리/서울특별시 공공자전거 이용정보(시간대별)_21.12.csv', encoding='utf-8')"
      ],
      "metadata": {
        "id": "BZTVZX2nPLK9"
      },
      "execution_count": null,
      "outputs": []
    },
    {
      "cell_type": "code",
      "source": [
        "# df = pd.concat([df1, df2])"
      ],
      "metadata": {
        "id": "bNZRp8QJYZnT"
      },
      "execution_count": null,
      "outputs": []
    },
    {
      "cell_type": "code",
      "source": [
        "# df = pd.concat([df, df3])"
      ],
      "metadata": {
        "id": "O7sgHoXvYemH"
      },
      "execution_count": null,
      "outputs": []
    },
    {
      "cell_type": "code",
      "source": [
        "# df = pd.concat([df, df4])"
      ],
      "metadata": {
        "id": "q8GCoDDsYkwj"
      },
      "execution_count": null,
      "outputs": []
    },
    {
      "cell_type": "code",
      "source": [
        "# df = pd.concat([df, df5])"
      ],
      "metadata": {
        "id": "xXmMNUdjZAkF"
      },
      "execution_count": null,
      "outputs": []
    },
    {
      "cell_type": "code",
      "source": [
        "# df = pd.concat([df, df6])"
      ],
      "metadata": {
        "id": "u-zPykPpZDNi"
      },
      "execution_count": null,
      "outputs": []
    },
    {
      "cell_type": "code",
      "source": [
        "# df = pd.concat([df, df7])"
      ],
      "metadata": {
        "id": "fZst1ZC0ZG92"
      },
      "execution_count": null,
      "outputs": []
    },
    {
      "cell_type": "code",
      "source": [
        "# df = pd.concat([df, df8])"
      ],
      "metadata": {
        "id": "f0Dog3fSZIUy"
      },
      "execution_count": null,
      "outputs": []
    },
    {
      "cell_type": "code",
      "source": [
        "# df = pd.concat([df, df9])"
      ],
      "metadata": {
        "id": "ob_Qpn2IZKp5"
      },
      "execution_count": null,
      "outputs": []
    },
    {
      "cell_type": "code",
      "source": [
        "# df = pd.concat([df, df10])"
      ],
      "metadata": {
        "id": "F9oY3A5ZZKkP"
      },
      "execution_count": null,
      "outputs": []
    },
    {
      "cell_type": "code",
      "source": [
        "# df = pd.concat([df, df11])"
      ],
      "metadata": {
        "id": "tN-MGh0fZOfv"
      },
      "execution_count": null,
      "outputs": []
    },
    {
      "cell_type": "code",
      "source": [
        "# df = pd.concat([df, df12])"
      ],
      "metadata": {
        "id": "WQuuQ_IxZQaS"
      },
      "execution_count": null,
      "outputs": []
    },
    {
      "cell_type": "code",
      "source": [
        "weather = pd.read_csv('/content/drive/MyDrive/데이터 처리/SURFACE_ASOS_108_HR_2021_2021_2022_1.csv', encoding='utf-8')"
      ],
      "metadata": {
        "id": "jHPrxUVg_6_J"
      },
      "execution_count": null,
      "outputs": []
    },
    {
      "cell_type": "code",
      "source": [
        "weather = weather.fillna(0.0)"
      ],
      "metadata": {
        "id": "anxyx2avQ7e-"
      },
      "execution_count": null,
      "outputs": []
    },
    {
      "cell_type": "code",
      "source": [
        "weather['일시'] = weather['일시'].astype('datetime64[ns]')\n",
        "weather['월'] = weather['일시'].dt.month\n",
        "weather['일'] = weather['일시'].dt.day\n",
        "weather['대여시간'] = weather['일시'].dt.hour"
      ],
      "metadata": {
        "id": "6KqeWXoAM94c"
      },
      "execution_count": null,
      "outputs": []
    },
    {
      "cell_type": "code",
      "source": [
        "weather.drop(columns=['지점'], inplace=True)"
      ],
      "metadata": {
        "id": "buUPmTdLRMjg"
      },
      "execution_count": null,
      "outputs": []
    },
    {
      "cell_type": "code",
      "source": [
        "df['대여일자'] = pd.to_datetime(df['대여일자'], errors = 'coerce')"
      ],
      "metadata": {
        "id": "Bt7FvFw2au_w"
      },
      "execution_count": null,
      "outputs": []
    },
    {
      "cell_type": "code",
      "source": [
        "df['이용건수'] = pd.to_numeric(df['이용건수'], errors = 'coerce')"
      ],
      "metadata": {
        "id": "l0KM25DygKcu"
      },
      "execution_count": null,
      "outputs": []
    },
    {
      "cell_type": "code",
      "source": [
        "df.drop(columns=['대여구분코드'], inplace=True)\n",
        "df.drop(columns=['성별'], inplace=True)\n",
        "df.drop(columns=['연령대코드'], inplace=True)\n",
        "df.drop(columns=['운동량'], inplace=True)"
      ],
      "metadata": {
        "id": "z-GL_hC8RauD"
      },
      "execution_count": null,
      "outputs": []
    },
    {
      "cell_type": "code",
      "source": [
        "df.drop(columns=['탄소량'], inplace=True)"
      ],
      "metadata": {
        "id": "eK4Ff-g1RrOT"
      },
      "execution_count": null,
      "outputs": []
    },
    {
      "cell_type": "code",
      "source": [
        "df['월'] = df['대여일자'].dt.month\n",
        "df['일'] = df['대여일자'].dt.day\n",
        "df['요일'] = df['대여일자'].dt.dayofweek\n",
        "df.head()"
      ],
      "metadata": {
        "colab": {
          "base_uri": "https://localhost:8080/",
          "height": 354
        },
        "id": "FW21K_r1aWuU",
        "outputId": "b43f8f6b-5882-4ec5-94a8-eaf3fb54cd09"
      },
      "execution_count": null,
      "outputs": [
        {
          "output_type": "execute_result",
          "data": {
            "text/plain": [
              "        대여일자  대여시간  대여소번호                     대여소명  이용건수     이동거리  사용시간  월  일  \\\n",
              "0 2021-01-01     0   1347  1347. 길음래미안아파트817동 상가 앞     2   992.78    13  1  1   \n",
              "1 2021-01-01     0   1349       1349. 월계2교 버스정류장 앞     1  1127.50    10  1  1   \n",
              "2 2021-01-01     0   1168        1168. 마곡엠밸리10단지 앞     1     0.00     7  1  1   \n",
              "3 2021-01-01     0   2619         2619. 석촌고분역 4번출구     1  1658.34    14  1  1   \n",
              "4 2021-01-01     0    536          536. 행당역 2번출구 앞     1   743.88     5  1  1   \n",
              "\n",
              "   요일  \n",
              "0   4  \n",
              "1   4  \n",
              "2   4  \n",
              "3   4  \n",
              "4   4  "
            ],
            "text/html": [
              "\n",
              "  <div id=\"df-7f26f07b-433e-4cb2-b958-b3006c0364a7\">\n",
              "    <div class=\"colab-df-container\">\n",
              "      <div>\n",
              "<style scoped>\n",
              "    .dataframe tbody tr th:only-of-type {\n",
              "        vertical-align: middle;\n",
              "    }\n",
              "\n",
              "    .dataframe tbody tr th {\n",
              "        vertical-align: top;\n",
              "    }\n",
              "\n",
              "    .dataframe thead th {\n",
              "        text-align: right;\n",
              "    }\n",
              "</style>\n",
              "<table border=\"1\" class=\"dataframe\">\n",
              "  <thead>\n",
              "    <tr style=\"text-align: right;\">\n",
              "      <th></th>\n",
              "      <th>대여일자</th>\n",
              "      <th>대여시간</th>\n",
              "      <th>대여소번호</th>\n",
              "      <th>대여소명</th>\n",
              "      <th>이용건수</th>\n",
              "      <th>이동거리</th>\n",
              "      <th>사용시간</th>\n",
              "      <th>월</th>\n",
              "      <th>일</th>\n",
              "      <th>요일</th>\n",
              "    </tr>\n",
              "  </thead>\n",
              "  <tbody>\n",
              "    <tr>\n",
              "      <th>0</th>\n",
              "      <td>2021-01-01</td>\n",
              "      <td>0</td>\n",
              "      <td>1347</td>\n",
              "      <td>1347. 길음래미안아파트817동 상가 앞</td>\n",
              "      <td>2</td>\n",
              "      <td>992.78</td>\n",
              "      <td>13</td>\n",
              "      <td>1</td>\n",
              "      <td>1</td>\n",
              "      <td>4</td>\n",
              "    </tr>\n",
              "    <tr>\n",
              "      <th>1</th>\n",
              "      <td>2021-01-01</td>\n",
              "      <td>0</td>\n",
              "      <td>1349</td>\n",
              "      <td>1349. 월계2교 버스정류장 앞</td>\n",
              "      <td>1</td>\n",
              "      <td>1127.50</td>\n",
              "      <td>10</td>\n",
              "      <td>1</td>\n",
              "      <td>1</td>\n",
              "      <td>4</td>\n",
              "    </tr>\n",
              "    <tr>\n",
              "      <th>2</th>\n",
              "      <td>2021-01-01</td>\n",
              "      <td>0</td>\n",
              "      <td>1168</td>\n",
              "      <td>1168. 마곡엠밸리10단지 앞</td>\n",
              "      <td>1</td>\n",
              "      <td>0.00</td>\n",
              "      <td>7</td>\n",
              "      <td>1</td>\n",
              "      <td>1</td>\n",
              "      <td>4</td>\n",
              "    </tr>\n",
              "    <tr>\n",
              "      <th>3</th>\n",
              "      <td>2021-01-01</td>\n",
              "      <td>0</td>\n",
              "      <td>2619</td>\n",
              "      <td>2619. 석촌고분역 4번출구</td>\n",
              "      <td>1</td>\n",
              "      <td>1658.34</td>\n",
              "      <td>14</td>\n",
              "      <td>1</td>\n",
              "      <td>1</td>\n",
              "      <td>4</td>\n",
              "    </tr>\n",
              "    <tr>\n",
              "      <th>4</th>\n",
              "      <td>2021-01-01</td>\n",
              "      <td>0</td>\n",
              "      <td>536</td>\n",
              "      <td>536. 행당역 2번출구 앞</td>\n",
              "      <td>1</td>\n",
              "      <td>743.88</td>\n",
              "      <td>5</td>\n",
              "      <td>1</td>\n",
              "      <td>1</td>\n",
              "      <td>4</td>\n",
              "    </tr>\n",
              "  </tbody>\n",
              "</table>\n",
              "</div>\n",
              "      <button class=\"colab-df-convert\" onclick=\"convertToInteractive('df-7f26f07b-433e-4cb2-b958-b3006c0364a7')\"\n",
              "              title=\"Convert this dataframe to an interactive table.\"\n",
              "              style=\"display:none;\">\n",
              "        \n",
              "  <svg xmlns=\"http://www.w3.org/2000/svg\" height=\"24px\"viewBox=\"0 0 24 24\"\n",
              "       width=\"24px\">\n",
              "    <path d=\"M0 0h24v24H0V0z\" fill=\"none\"/>\n",
              "    <path d=\"M18.56 5.44l.94 2.06.94-2.06 2.06-.94-2.06-.94-.94-2.06-.94 2.06-2.06.94zm-11 1L8.5 8.5l.94-2.06 2.06-.94-2.06-.94L8.5 2.5l-.94 2.06-2.06.94zm10 10l.94 2.06.94-2.06 2.06-.94-2.06-.94-.94-2.06-.94 2.06-2.06.94z\"/><path d=\"M17.41 7.96l-1.37-1.37c-.4-.4-.92-.59-1.43-.59-.52 0-1.04.2-1.43.59L10.3 9.45l-7.72 7.72c-.78.78-.78 2.05 0 2.83L4 21.41c.39.39.9.59 1.41.59.51 0 1.02-.2 1.41-.59l7.78-7.78 2.81-2.81c.8-.78.8-2.07 0-2.86zM5.41 20L4 18.59l7.72-7.72 1.47 1.35L5.41 20z\"/>\n",
              "  </svg>\n",
              "      </button>\n",
              "      \n",
              "  <style>\n",
              "    .colab-df-container {\n",
              "      display:flex;\n",
              "      flex-wrap:wrap;\n",
              "      gap: 12px;\n",
              "    }\n",
              "\n",
              "    .colab-df-convert {\n",
              "      background-color: #E8F0FE;\n",
              "      border: none;\n",
              "      border-radius: 50%;\n",
              "      cursor: pointer;\n",
              "      display: none;\n",
              "      fill: #1967D2;\n",
              "      height: 32px;\n",
              "      padding: 0 0 0 0;\n",
              "      width: 32px;\n",
              "    }\n",
              "\n",
              "    .colab-df-convert:hover {\n",
              "      background-color: #E2EBFA;\n",
              "      box-shadow: 0px 1px 2px rgba(60, 64, 67, 0.3), 0px 1px 3px 1px rgba(60, 64, 67, 0.15);\n",
              "      fill: #174EA6;\n",
              "    }\n",
              "\n",
              "    [theme=dark] .colab-df-convert {\n",
              "      background-color: #3B4455;\n",
              "      fill: #D2E3FC;\n",
              "    }\n",
              "\n",
              "    [theme=dark] .colab-df-convert:hover {\n",
              "      background-color: #434B5C;\n",
              "      box-shadow: 0px 1px 3px 1px rgba(0, 0, 0, 0.15);\n",
              "      filter: drop-shadow(0px 1px 2px rgba(0, 0, 0, 0.3));\n",
              "      fill: #FFFFFF;\n",
              "    }\n",
              "  </style>\n",
              "\n",
              "      <script>\n",
              "        const buttonEl =\n",
              "          document.querySelector('#df-7f26f07b-433e-4cb2-b958-b3006c0364a7 button.colab-df-convert');\n",
              "        buttonEl.style.display =\n",
              "          google.colab.kernel.accessAllowed ? 'block' : 'none';\n",
              "\n",
              "        async function convertToInteractive(key) {\n",
              "          const element = document.querySelector('#df-7f26f07b-433e-4cb2-b958-b3006c0364a7');\n",
              "          const dataTable =\n",
              "            await google.colab.kernel.invokeFunction('convertToInteractive',\n",
              "                                                     [key], {});\n",
              "          if (!dataTable) return;\n",
              "\n",
              "          const docLinkHtml = 'Like what you see? Visit the ' +\n",
              "            '<a target=\"_blank\" href=https://colab.research.google.com/notebooks/data_table.ipynb>data table notebook</a>'\n",
              "            + ' to learn more about interactive tables.';\n",
              "          element.innerHTML = '';\n",
              "          dataTable['output_type'] = 'display_data';\n",
              "          await google.colab.output.renderOutput(dataTable, element);\n",
              "          const docLink = document.createElement('div');\n",
              "          docLink.innerHTML = docLinkHtml;\n",
              "          element.appendChild(docLink);\n",
              "        }\n",
              "      </script>\n",
              "    </div>\n",
              "  </div>\n",
              "  "
            ]
          },
          "metadata": {},
          "execution_count": 41
        }
      ]
    },
    {
      "cell_type": "code",
      "source": [
        "df = df.merge(weather, on = ['월', '일', '대여시간'])"
      ],
      "metadata": {
        "id": "uZV5pekvcuFe"
      },
      "execution_count": null,
      "outputs": []
    },
    {
      "cell_type": "code",
      "source": [
        "# df = df.merge(data, on = '대여소번호')"
      ],
      "metadata": {
        "id": "y3MNH1iZLOpv"
      },
      "execution_count": null,
      "outputs": []
    },
    {
      "cell_type": "code",
      "source": [
        "cols = ['대여소번호', '소재지(위치)', '월', '일', '대여시간', '요일', '기온(°C)', '풍속(m/s)', '강수량(mm)', '습도(%)']\n",
        "\n",
        "df = df.groupby(cols)['이동거리', '사용시간', '이용건수'].agg({\n",
        "    \"이동거리\": 'mean',\n",
        "    '사용시간': 'mean',\n",
        "    \"이용건수\": 'sum'\n",
        "}).reset_index()\n",
        "df.head()"
      ],
      "metadata": {
        "colab": {
          "base_uri": "https://localhost:8080/",
          "height": 434
        },
        "id": "yk3bOIP1exQI",
        "outputId": "5a90f901-21bb-49d6-ab87-6bd4b36435a5"
      },
      "execution_count": null,
      "outputs": [
        {
          "output_type": "error",
          "ename": "KeyError",
          "evalue": "ignored",
          "traceback": [
            "\u001b[0;31m---------------------------------------------------------------------------\u001b[0m",
            "\u001b[0;31mKeyError\u001b[0m                                  Traceback (most recent call last)",
            "\u001b[0;32m<ipython-input-44-0ea2b2b6f55b>\u001b[0m in \u001b[0;36m<module>\u001b[0;34m\u001b[0m\n\u001b[1;32m      1\u001b[0m \u001b[0mcols\u001b[0m \u001b[0;34m=\u001b[0m \u001b[0;34m[\u001b[0m\u001b[0;34m'대여소번호'\u001b[0m\u001b[0;34m,\u001b[0m \u001b[0;34m'소재지(위치)'\u001b[0m\u001b[0;34m,\u001b[0m \u001b[0;34m'월'\u001b[0m\u001b[0;34m,\u001b[0m \u001b[0;34m'일'\u001b[0m\u001b[0;34m,\u001b[0m \u001b[0;34m'대여시간'\u001b[0m\u001b[0;34m,\u001b[0m \u001b[0;34m'요일'\u001b[0m\u001b[0;34m,\u001b[0m \u001b[0;34m'기온(°C)'\u001b[0m\u001b[0;34m,\u001b[0m \u001b[0;34m'풍속(m/s)'\u001b[0m\u001b[0;34m,\u001b[0m \u001b[0;34m'강수량(mm)'\u001b[0m\u001b[0;34m,\u001b[0m \u001b[0;34m'습도(%)'\u001b[0m\u001b[0;34m]\u001b[0m\u001b[0;34m\u001b[0m\u001b[0;34m\u001b[0m\u001b[0m\n\u001b[1;32m      2\u001b[0m \u001b[0;34m\u001b[0m\u001b[0m\n\u001b[0;32m----> 3\u001b[0;31m df = df.groupby(cols)['이동거리', '사용시간', '이용건수'].agg({\n\u001b[0m\u001b[1;32m      4\u001b[0m     \u001b[0;34m\"이동거리\"\u001b[0m\u001b[0;34m:\u001b[0m \u001b[0;34m'mean'\u001b[0m\u001b[0;34m,\u001b[0m\u001b[0;34m\u001b[0m\u001b[0;34m\u001b[0m\u001b[0m\n\u001b[1;32m      5\u001b[0m     \u001b[0;34m'사용시간'\u001b[0m\u001b[0;34m:\u001b[0m \u001b[0;34m'mean'\u001b[0m\u001b[0;34m,\u001b[0m\u001b[0;34m\u001b[0m\u001b[0;34m\u001b[0m\u001b[0m\n",
            "\u001b[0;32m/usr/local/lib/python3.8/dist-packages/pandas/core/frame.py\u001b[0m in \u001b[0;36mgroupby\u001b[0;34m(self, by, axis, level, as_index, sort, group_keys, squeeze, observed, dropna)\u001b[0m\n\u001b[1;32m   7629\u001b[0m         \u001b[0;31m# error: Argument \"squeeze\" to \"DataFrameGroupBy\" has incompatible type\u001b[0m\u001b[0;34m\u001b[0m\u001b[0;34m\u001b[0m\u001b[0;34m\u001b[0m\u001b[0m\n\u001b[1;32m   7630\u001b[0m         \u001b[0;31m# \"Union[bool, NoDefault]\"; expected \"bool\"\u001b[0m\u001b[0;34m\u001b[0m\u001b[0;34m\u001b[0m\u001b[0;34m\u001b[0m\u001b[0m\n\u001b[0;32m-> 7631\u001b[0;31m         return DataFrameGroupBy(\n\u001b[0m\u001b[1;32m   7632\u001b[0m             \u001b[0mobj\u001b[0m\u001b[0;34m=\u001b[0m\u001b[0mself\u001b[0m\u001b[0;34m,\u001b[0m\u001b[0;34m\u001b[0m\u001b[0;34m\u001b[0m\u001b[0m\n\u001b[1;32m   7633\u001b[0m             \u001b[0mkeys\u001b[0m\u001b[0;34m=\u001b[0m\u001b[0mby\u001b[0m\u001b[0;34m,\u001b[0m\u001b[0;34m\u001b[0m\u001b[0;34m\u001b[0m\u001b[0m\n",
            "\u001b[0;32m/usr/local/lib/python3.8/dist-packages/pandas/core/groupby/groupby.py\u001b[0m in \u001b[0;36m__init__\u001b[0;34m(self, obj, keys, axis, level, grouper, exclusions, selection, as_index, sort, group_keys, squeeze, observed, mutated, dropna)\u001b[0m\n\u001b[1;32m    887\u001b[0m             \u001b[0;32mfrom\u001b[0m \u001b[0mpandas\u001b[0m\u001b[0;34m.\u001b[0m\u001b[0mcore\u001b[0m\u001b[0;34m.\u001b[0m\u001b[0mgroupby\u001b[0m\u001b[0;34m.\u001b[0m\u001b[0mgrouper\u001b[0m \u001b[0;32mimport\u001b[0m \u001b[0mget_grouper\u001b[0m\u001b[0;34m\u001b[0m\u001b[0;34m\u001b[0m\u001b[0m\n\u001b[1;32m    888\u001b[0m \u001b[0;34m\u001b[0m\u001b[0m\n\u001b[0;32m--> 889\u001b[0;31m             grouper, exclusions, obj = get_grouper(\n\u001b[0m\u001b[1;32m    890\u001b[0m                 \u001b[0mobj\u001b[0m\u001b[0;34m,\u001b[0m\u001b[0;34m\u001b[0m\u001b[0;34m\u001b[0m\u001b[0m\n\u001b[1;32m    891\u001b[0m                 \u001b[0mkeys\u001b[0m\u001b[0;34m,\u001b[0m\u001b[0;34m\u001b[0m\u001b[0;34m\u001b[0m\u001b[0m\n",
            "\u001b[0;32m/usr/local/lib/python3.8/dist-packages/pandas/core/groupby/grouper.py\u001b[0m in \u001b[0;36mget_grouper\u001b[0;34m(obj, key, axis, level, sort, observed, mutated, validate, dropna)\u001b[0m\n\u001b[1;32m    860\u001b[0m                 \u001b[0min_axis\u001b[0m\u001b[0;34m,\u001b[0m \u001b[0mlevel\u001b[0m\u001b[0;34m,\u001b[0m \u001b[0mgpr\u001b[0m \u001b[0;34m=\u001b[0m \u001b[0;32mFalse\u001b[0m\u001b[0;34m,\u001b[0m \u001b[0mgpr\u001b[0m\u001b[0;34m,\u001b[0m \u001b[0;32mNone\u001b[0m\u001b[0;34m\u001b[0m\u001b[0;34m\u001b[0m\u001b[0m\n\u001b[1;32m    861\u001b[0m             \u001b[0;32melse\u001b[0m\u001b[0;34m:\u001b[0m\u001b[0;34m\u001b[0m\u001b[0;34m\u001b[0m\u001b[0m\n\u001b[0;32m--> 862\u001b[0;31m                 \u001b[0;32mraise\u001b[0m \u001b[0mKeyError\u001b[0m\u001b[0;34m(\u001b[0m\u001b[0mgpr\u001b[0m\u001b[0;34m)\u001b[0m\u001b[0;34m\u001b[0m\u001b[0;34m\u001b[0m\u001b[0m\n\u001b[0m\u001b[1;32m    863\u001b[0m         \u001b[0;32melif\u001b[0m \u001b[0misinstance\u001b[0m\u001b[0;34m(\u001b[0m\u001b[0mgpr\u001b[0m\u001b[0;34m,\u001b[0m \u001b[0mGrouper\u001b[0m\u001b[0;34m)\u001b[0m \u001b[0;32mand\u001b[0m \u001b[0mgpr\u001b[0m\u001b[0;34m.\u001b[0m\u001b[0mkey\u001b[0m \u001b[0;32mis\u001b[0m \u001b[0;32mnot\u001b[0m \u001b[0;32mNone\u001b[0m\u001b[0;34m:\u001b[0m\u001b[0;34m\u001b[0m\u001b[0;34m\u001b[0m\u001b[0m\n\u001b[1;32m    864\u001b[0m             \u001b[0;31m# Add key to exclusions\u001b[0m\u001b[0;34m\u001b[0m\u001b[0;34m\u001b[0m\u001b[0;34m\u001b[0m\u001b[0m\n",
            "\u001b[0;31mKeyError\u001b[0m: '소재지(위치)'"
          ]
        }
      ]
    },
    {
      "cell_type": "code",
      "source": [
        "df.describe().T"
      ],
      "metadata": {
        "id": "oIy0fVphm7tP"
      },
      "execution_count": null,
      "outputs": []
    },
    {
      "cell_type": "code",
      "source": [
        "#(대여소 위치(~~구), 월, 일, 시(대여시간), 요일, 기온, 풍속, 강수량, 습도, 이동거리, 사용시간, 이용건수)\n",
        "#1. 저번에 사용했던 log1p, square root, cube root 그래프 그려봤는데 뭔가 정규분포 형태로 나타나지 않는 것 같다.\n",
        "#2. 구별로 따로 처리를 해놔야 할지 모르겠다."
      ],
      "metadata": {
        "id": "s2KTR00Od6-h"
      },
      "execution_count": null,
      "outputs": []
    },
    {
      "cell_type": "markdown",
      "source": [
        "## train data와 test data 나누기"
      ],
      "metadata": {
        "id": "AcJ_kRa15et3"
      }
    },
    {
      "cell_type": "code",
      "source": [
        "drop_columns=['이용건수', '소재지(위치)','이동거리','사용시간']\n",
        "\n",
        "X=df.drop(drop_columns,axis=1)\n",
        "y=df['이용건수']"
      ],
      "metadata": {
        "id": "ziXI9NAv5XPp"
      },
      "execution_count": null,
      "outputs": []
    },
    {
      "cell_type": "code",
      "source": [
        "from sklearn.model_selection import train_test_split\n",
        "\n",
        "X_train, X_test, y_train, y_test = train_test_split(X, y, test_size=0.25, random_state=42)\n",
        "\n",
        "print(f'The shape of the train and test set for the independent variables are : X_train = {X_train.shape}, X_test = {X_test.shape}')\n",
        "print(f'The shape of the train and test set for the dependent variables are : y_train = {y_train.shape}, y_test = {y_test.shape}')"
      ],
      "metadata": {
        "id": "lB44iQki5eD6"
      },
      "execution_count": null,
      "outputs": []
    },
    {
      "cell_type": "markdown",
      "source": [
        "## 모델링"
      ],
      "metadata": {
        "id": "TAElmPm75qGo"
      }
    },
    {
      "cell_type": "code",
      "source": [
        "from sklearn.linear_model import LinearRegression\n",
        "from sklearn.ensemble import RandomForestRegressor, GradientBoostingRegressor\n",
        "from sklearn.model_selection import cross_val_score\n",
        "\n",
        "def print_score(name, score):\n",
        "  print(f'{name}: {sum(score) / len(score)}')"
      ],
      "metadata": {
        "id": "uaIAtvER5rxp"
      },
      "execution_count": null,
      "outputs": []
    },
    {
      "cell_type": "code",
      "source": [
        "## random forest\n",
        "rf_model = RandomForestRegressor()\n",
        "rf_model.fit(X_train, y_train)\n",
        "\n",
        "rf_scores = cross_val_score(rf_model, X_test, y_test, cv=5)"
      ],
      "metadata": {
        "id": "qaWotaXenE1g"
      },
      "execution_count": null,
      "outputs": []
    },
    {
      "cell_type": "code",
      "source": [
        "## gradient boosting\n",
        "gbm_model = GradientBoostingRegressor()\n",
        "gbm_model.fit(X_train, y_train)\n",
        "\n",
        "gbm_scores = cross_val_score(gbm_model, X_test, y_test, cv=5)"
      ],
      "metadata": {
        "id": "N08BWSXgnJdQ"
      },
      "execution_count": null,
      "outputs": []
    },
    {
      "cell_type": "code",
      "source": [
        "print_score('random forest',rf_scores)\n",
        "print_score('gradient boosting',gbm_scores)"
      ],
      "metadata": {
        "id": "YYhSTNwLnMhA"
      },
      "execution_count": null,
      "outputs": []
    },
    {
      "cell_type": "code",
      "source": [
        "from sklearn.model_selection import GridSearchCV\n",
        "from sklearn.metrics import accuracy_score\n",
        "\n",
        "rf_params={'n_estimators':[20,50,10,100]}\n",
        "gb_params={'max_depth':range(1,6,1),'n_estimators':[1,10,100]}"
      ],
      "metadata": {
        "id": "iVYbNeGAGUTD"
      },
      "execution_count": null,
      "outputs": []
    },
    {
      "cell_type": "code",
      "source": [
        "grid_rf=GridSearchCV(RandomForestRegressor(), rf_params, refit=True, scoring='r2', cv=5, verbose=3)\n",
        "grid_rf.fit(X_train,y_train)\n",
        "rf_pred=grid_rf.predict(X_test)"
      ],
      "metadata": {
        "id": "82BTGMYyGWeF"
      },
      "execution_count": null,
      "outputs": []
    },
    {
      "cell_type": "code",
      "source": [
        "print(\"Best Parameters:\",grid_rf.best_params_)\n",
        "print(\"Best Score:\",grid_rf.best_score_)"
      ],
      "metadata": {
        "id": "IidUJ3huGYNF"
      },
      "execution_count": null,
      "outputs": []
    },
    {
      "cell_type": "markdown",
      "source": [
        "#### 아래는 NaN 값 뜨는 코드"
      ],
      "metadata": {
        "id": "B1h5Yr-YGjPo"
      }
    },
    {
      "cell_type": "code",
      "source": [
        "from sklearn.model_selection import GridSearchCV\n",
        "from sklearn.metrics import accuracy_score\n",
        "\n",
        "rf_params={'n_estimators':[1,10,100]}\n",
        "gb_params={'max_depth':range(1,6,1),'n_estimators':[1,10,100]}"
      ],
      "metadata": {
        "id": "hMfXCdSNwaS3"
      },
      "execution_count": null,
      "outputs": []
    },
    {
      "cell_type": "code",
      "source": [
        "grid_rf=GridSearchCV(RandomForestRegressor(), rf_params, refit=True, scoring='accuracy', cv=5, verbose=3)\n",
        "grid_rf.fit(X_train,y_train)\n",
        "rf_pred=grid_rf.predict(X_test)"
      ],
      "metadata": {
        "id": "hi3H_ddHx4Cm"
      },
      "execution_count": null,
      "outputs": []
    },
    {
      "cell_type": "code",
      "source": [
        "print(\"Best Parameters:\",grid_rf.best_params_)"
      ],
      "metadata": {
        "id": "DlWTXbCl0bIW"
      },
      "execution_count": null,
      "outputs": []
    },
    {
      "cell_type": "code",
      "source": [
        "print('Random forest:',accuracy_score(y_test, rf_pred))"
      ],
      "metadata": {
        "id": "6o3V7D3NzdYT"
      },
      "execution_count": null,
      "outputs": []
    },
    {
      "cell_type": "code",
      "source": [
        "grid_gb=GridSearchCV(GradientBoostingRegressor(), gb_params, refit=True, scoring='accuracy', cv=5, verbose=3)\n",
        "grid_gb.fit(X_train,y_train)\n",
        "gb_pred=grid_gb.predict(X_test)"
      ],
      "metadata": {
        "id": "_DagtZ9xyPCK"
      },
      "execution_count": null,
      "outputs": []
    },
    {
      "cell_type": "code",
      "source": [
        "pred_1d = gb_pred.flatten() # 차원 펴주기\n",
        "pred_class = np.around(pred_1d) # 반올림하기"
      ],
      "metadata": {
        "id": "GitN-QWC4Q6d"
      },
      "execution_count": null,
      "outputs": []
    },
    {
      "cell_type": "code",
      "source": [
        "print(\"Best Parameters:\",grid_gb.best_params_)"
      ],
      "metadata": {
        "id": "olDFB1l956pW"
      },
      "execution_count": null,
      "outputs": []
    },
    {
      "cell_type": "code",
      "source": [
        "print('Gradient boosting:',accuracy_score(y_test, pred_class))"
      ],
      "metadata": {
        "id": "6X3GI2nozeUy"
      },
      "execution_count": null,
      "outputs": []
    }
  ]
}
